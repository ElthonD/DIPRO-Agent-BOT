{
 "cells": [
  {
   "cell_type": "markdown",
   "id": "67fc1b95-9718-44a2-875e-744c0454f65a",
   "metadata": {},
   "source": [
    "# Análisis de Data - DIPRO"
   ]
  },
  {
   "cell_type": "markdown",
   "id": "5825785a-0581-4f83-8d52-baffcf03f587",
   "metadata": {},
   "source": [
    "## Objetivos"
   ]
  },
  {
   "cell_type": "markdown",
   "id": "fc16c050-bbda-4e1a-b40d-9c3d0063308a",
   "metadata": {},
   "source": [
    "1. *Comprender las preguntas:*  \n",
    "   - Analiza cada pregunta para identificar su intención y significado, ignorando diferencias en la redacción pero centrándote en el contenido o la esencia de la duda.  \n",
    "\n",
    "2. *Agrupar preguntas similares:*  \n",
    "   - Encuentra preguntas que tratan sobre lo mismo, incluso si están redactadas de forma diferente.  \n",
    "   - Crea un campo adicional en la base de datos donde se asigne un identificador único que agrupe todas las preguntas relacionadas con el mismo tema.\n",
    "\n",
    "3. *Analizar respuestas:*  \n",
    "   - Identifica respuestas similares o repetidas que aborden la misma cuestión y asigna un identificador único que las agrupe.  \n",
    "\n",
    "4. *Generar una nueva base de datos:*  \n",
    "   - Reestructura la base de datos con las siguientes columnas:  \n",
    "     - Número de registro original.  \n",
    "     - Pregunta original.  \n",
    "     - Identificador de grupo de pregunta (esencia de la duda).  \n",
    "     - Respuesta original.  \n",
    "     - Identificador de grupo de respuesta (contenido similar).  \n",
    "   - Incluye en cada registro el número de veces que se repitió una misma duda (grupo de pregunta) y una misma respuesta (grupo de respuesta).  \n",
    "\n",
    "5. *Resultado final:*  \n",
    "   - Proporciona un análisis que incluya cuántas dudas distintas existen, cuántas veces se repite cada una y cuántas respuestas similares se generan para estas dudas.  "
   ]
  },
  {
   "cell_type": "markdown",
   "id": "fec75bc8-70ff-403c-9a5f-4a9731d86738",
   "metadata": {},
   "source": [
    "## Alcance"
   ]
  },
  {
   "cell_type": "markdown",
   "id": "b0f9c07d-6ee5-4071-8a34-3a022c5424c2",
   "metadata": {},
   "source": [
    "Se debe asegurar de seguir un enfoque organizado, empleando procesamiento de lenguaje natural (NLP) para identificar patrones semánticos en las preguntas y respuestas. Se debe ignorar las diferencias textuales menores y enfocar esfuerzos en encontrar relaciones semánticas entre los registros. El objetivo es obtener una base de datos clara, depurada y optimizada para el análisis."
   ]
  },
  {
   "cell_type": "markdown",
   "id": "1c02f4d0-969b-4028-b428-4c10b605c21c",
   "metadata": {},
   "source": [
    "## Resultados Esperados"
   ]
  },
  {
   "cell_type": "markdown",
   "id": "d5dd351d-a953-495d-8530-b887fa89e2c9",
   "metadata": {},
   "source": [
    "Para realizar un análisis profundo, con diagnóstico y plan de acción, se debe considerar tres (3) puntos:\n",
    " \n",
    "1. Análisis, interpretación y agrupación de los RFIs, por tipo de consulta técnica elaborada (Ejemplo: Consultas sobre Firme de Concreto, Consultas sobre cimentaciones, Consultas sobre estructura del edificio, Consulta sobre Instalación Eléctrica, Consulta sobre terracerías o condiciones de terreno diferentes a mecánica de suelos, Consultas sobre acabados, Consultas sobre refrigeración, etc. etc., etc.)\n",
    "\n",
    "2. Identificar si las consultas son por omisión del proyecto, por error en el diseño del proyecto, por no haber reflejado la información correcta en el plano correcto, u Otros.\n",
    "\n",
    "3. Identificar el 80/20 de las consultas que más suceden, así como la causa raíz (por especialidad, por formato, por causa raíz, etc.), y elaborar una propuesta de como atender el problema en corto, mediano y largo plazo. (Hacia Supervisiones, hacia contratistas, hacia Proyectistas, hacia coordinadores de Construcción, hacia Coordinadores de Diseño, etc.)"
   ]
  },
  {
   "cell_type": "markdown",
   "id": "b77fc017-6f6c-49e5-8156-b10c84d3201f",
   "metadata": {},
   "source": [
    "## Librerías para el Análisis"
   ]
  },
  {
   "cell_type": "code",
   "execution_count": 1,
   "id": "89c6c280-ac4b-40b1-9ba7-a2701bf21df4",
   "metadata": {},
   "outputs": [
    {
     "name": "stderr",
     "output_type": "stream",
     "text": [
      "C:\\Users\\erivas\\AppData\\Roaming\\Python\\Python39\\site-packages\\tqdm\\auto.py:21: TqdmWarning: IProgress not found. Please update jupyter and ipywidgets. See https://ipywidgets.readthedocs.io/en/stable/user_install.html\n",
      "  from .autonotebook import tqdm as notebook_tqdm\n",
      "[nltk_data] Downloading package stopwords to\n",
      "[nltk_data]     C:\\Users\\erivas\\AppData\\Roaming\\nltk_data...\n",
      "[nltk_data]   Package stopwords is already up-to-date!\n"
     ]
    }
   ],
   "source": [
    "# Tratamiento de datos\n",
    "# ==============================================================================\n",
    "import numpy as np\n",
    "import pandas as pd\n",
    "import string\n",
    "import re\n",
    "import json\n",
    "import os\n",
    "import math\n",
    "\n",
    "# Gráficos\n",
    "# ==============================================================================\n",
    "import matplotlib.pyplot as plt\n",
    "from matplotlib import style\n",
    "from matplotlib.ticker import PercentFormatter\n",
    "import seaborn as sns\n",
    "import plotly.graph_objects as go\n",
    "#style.use('ggplot') or plt.style.use('ggplot')\n",
    "\n",
    "# Para Clustering\n",
    "# =============================================================================\n",
    "from sklearn.cluster import AgglomerativeClustering\n",
    "# Para cálculos de similitud (en caso de necesitar ajustar)\n",
    "from sklearn.metrics.pairwise import cosine_similarity\n",
    "\n",
    "# Importar modelo para embeddings de oraciones (compatible con español)\n",
    "#=============================================================================\n",
    "from sentence_transformers import SentenceTransformer\n",
    "\n",
    "# Preprocesado y modelado\n",
    "# ============================================================================\n",
    "from sklearn import svm\n",
    "from sklearn.model_selection import train_test_split\n",
    "from sklearn.model_selection import GridSearchCV\n",
    "from sklearn.metrics import confusion_matrix\n",
    "from sklearn.feature_extraction.text import TfidfVectorizer\n",
    "import nltk\n",
    "nltk.download('stopwords')\n",
    "from nltk.corpus import stopwords\n",
    "\n",
    "# Configuración warnings\n",
    "# ==============================================================================\n",
    "import warnings\n",
    "warnings.filterwarnings('ignore')"
   ]
  },
  {
   "cell_type": "markdown",
   "id": "7b8820d6-a191-4db9-83f9-f5e2988c0435",
   "metadata": {},
   "source": [
    "## Data"
   ]
  },
  {
   "cell_type": "code",
   "execution_count": 2,
   "id": "cec1c993-e8ec-4a18-ac74-f929c9b5e956",
   "metadata": {},
   "outputs": [
    {
     "data": {
      "text/html": [
       "<div>\n",
       "<style scoped>\n",
       "    .dataframe tbody tr th:only-of-type {\n",
       "        vertical-align: middle;\n",
       "    }\n",
       "\n",
       "    .dataframe tbody tr th {\n",
       "        vertical-align: top;\n",
       "    }\n",
       "\n",
       "    .dataframe thead th {\n",
       "        text-align: right;\n",
       "    }\n",
       "</style>\n",
       "<table border=\"1\" class=\"dataframe\">\n",
       "  <thead>\n",
       "    <tr style=\"text-align: right;\">\n",
       "      <th></th>\n",
       "      <th>ID</th>\n",
       "      <th>Fecha/Hora de creación</th>\n",
       "      <th>Área</th>\n",
       "      <th>Sub Especialidad</th>\n",
       "      <th>Causa Principal</th>\n",
       "      <th>Área impactada</th>\n",
       "      <th>Título del RFI</th>\n",
       "      <th>Pregunta del RFI</th>\n",
       "      <th>Respuesta</th>\n",
       "      <th>Registrado por</th>\n",
       "      <th>RFI Type</th>\n",
       "      <th>Fecha de creación</th>\n",
       "      <th>Mes Creación</th>\n",
       "      <th>Año Creación</th>\n",
       "      <th>Nombre de la tienda</th>\n",
       "      <th>ID.1</th>\n",
       "      <th>Determinante</th>\n",
       "      <th>Banner</th>\n",
       "      <th>Revisión</th>\n",
       "    </tr>\n",
       "  </thead>\n",
       "  <tbody>\n",
       "    <tr>\n",
       "      <th>0</th>\n",
       "      <td>1042790</td>\n",
       "      <td>2023-10-13 09:42:44</td>\n",
       "      <td>Exteriores</td>\n",
       "      <td>Especiales</td>\n",
       "      <td>Requerimiento de Información</td>\n",
       "      <td>Sistemas</td>\n",
       "      <td>ACOMETIDA TELMEX</td>\n",
       "      <td>Buen dia  Respecto a la acometida de telmex, s...</td>\n",
       "      <td>NaN</td>\n",
       "      <td>Abraham Lugo</td>\n",
       "      <td>Design</td>\n",
       "      <td>2023-10-13</td>\n",
       "      <td>10</td>\n",
       "      <td>2023</td>\n",
       "      <td>SAN LUIS POTOSI (RM 2023)</td>\n",
       "      <td>1006517.0</td>\n",
       "      <td>2431.0</td>\n",
       "      <td>Walmart Supercenter</td>\n",
       "      <td>0</td>\n",
       "    </tr>\n",
       "    <tr>\n",
       "      <th>1</th>\n",
       "      <td>1039329</td>\n",
       "      <td>2023-07-25 16:39:29</td>\n",
       "      <td>Interiores</td>\n",
       "      <td>Instalaciones Especiales Alarmas, Cctv Y Eas</td>\n",
       "      <td>Requerimiento de Información</td>\n",
       "      <td>Acceso clientes</td>\n",
       "      <td>ALARMADO ACCESO DE CLIENTES</td>\n",
       "      <td>Buen dia  Con respecto al alarmado del portico...</td>\n",
       "      <td>NaN</td>\n",
       "      <td>Abraham Lugo</td>\n",
       "      <td>Design</td>\n",
       "      <td>2023-07-25</td>\n",
       "      <td>7</td>\n",
       "      <td>2023</td>\n",
       "      <td>SAN LUIS POTOSI (RM 2023)</td>\n",
       "      <td>1006517.0</td>\n",
       "      <td>2431.0</td>\n",
       "      <td>Walmart Supercenter</td>\n",
       "      <td>0</td>\n",
       "    </tr>\n",
       "    <tr>\n",
       "      <th>2</th>\n",
       "      <td>1038746</td>\n",
       "      <td>2023-07-11 18:51:51</td>\n",
       "      <td>Interiores</td>\n",
       "      <td>Instalación Eléctrica</td>\n",
       "      <td>Actualización de Prototipo</td>\n",
       "      <td>Otros</td>\n",
       "      <td>ALCANCES LOCALES COMERCIALES</td>\n",
       "      <td>BUEN DIA   EN RECORRIDO CON STORE PLANING SE C...</td>\n",
       "      <td>NaN</td>\n",
       "      <td>Abraham Lugo</td>\n",
       "      <td>Design</td>\n",
       "      <td>2023-07-11</td>\n",
       "      <td>7</td>\n",
       "      <td>2023</td>\n",
       "      <td>SAN LUIS POTOSI (RM 2023)</td>\n",
       "      <td>1006517.0</td>\n",
       "      <td>2431.0</td>\n",
       "      <td>Walmart Supercenter</td>\n",
       "      <td>0</td>\n",
       "    </tr>\n",
       "  </tbody>\n",
       "</table>\n",
       "</div>"
      ],
      "text/plain": [
       "        ID Fecha/Hora de creación        Área  \\\n",
       "0  1042790    2023-10-13 09:42:44  Exteriores   \n",
       "1  1039329    2023-07-25 16:39:29  Interiores   \n",
       "2  1038746    2023-07-11 18:51:51  Interiores   \n",
       "\n",
       "                               Sub Especialidad               Causa Principal  \\\n",
       "0                                    Especiales  Requerimiento de Información   \n",
       "1  Instalaciones Especiales Alarmas, Cctv Y Eas  Requerimiento de Información   \n",
       "2                         Instalación Eléctrica    Actualización de Prototipo   \n",
       "\n",
       "    Área impactada                Título del RFI  \\\n",
       "0         Sistemas              ACOMETIDA TELMEX   \n",
       "1  Acceso clientes   ALARMADO ACCESO DE CLIENTES   \n",
       "2            Otros  ALCANCES LOCALES COMERCIALES   \n",
       "\n",
       "                                    Pregunta del RFI Respuesta Registrado por  \\\n",
       "0  Buen dia  Respecto a la acometida de telmex, s...       NaN   Abraham Lugo   \n",
       "1  Buen dia  Con respecto al alarmado del portico...       NaN   Abraham Lugo   \n",
       "2  BUEN DIA   EN RECORRIDO CON STORE PLANING SE C...       NaN   Abraham Lugo   \n",
       "\n",
       "  RFI Type Fecha de creación  Mes Creación  Año Creación  \\\n",
       "0   Design        2023-10-13            10          2023   \n",
       "1   Design        2023-07-25             7          2023   \n",
       "2   Design        2023-07-11             7          2023   \n",
       "\n",
       "         Nombre de la tienda       ID.1  Determinante               Banner  \\\n",
       "0  SAN LUIS POTOSI (RM 2023)  1006517.0        2431.0  Walmart Supercenter   \n",
       "1  SAN LUIS POTOSI (RM 2023)  1006517.0        2431.0  Walmart Supercenter   \n",
       "2  SAN LUIS POTOSI (RM 2023)  1006517.0        2431.0  Walmart Supercenter   \n",
       "\n",
       "   Revisión  \n",
       "0         0  \n",
       "1         0  \n",
       "2         0  "
      ]
     },
     "execution_count": 2,
     "metadata": {},
     "output_type": "execute_result"
    }
   ],
   "source": [
    "# Open and read the xslx file\n",
    "xlsx_data = 'D:\\Proyectos\\DIPRO Agent BOT\\Data\\RFI All Data v2_limpia.xlsx'\n",
    "data = pd.read_excel(xlsx_data)\n",
    "data.head(3)"
   ]
  },
  {
   "cell_type": "code",
   "execution_count": 3,
   "id": "9a01108f-ef86-4112-accd-16a40919cb64",
   "metadata": {},
   "outputs": [],
   "source": [
    "# Asegurar un identificador de registro (si no existe, usar índice)\n",
    "data.reset_index(inplace=True)\n",
    "data.rename(columns={'index': 'Registro'}, inplace=True)"
   ]
  },
  {
   "cell_type": "markdown",
   "id": "e2074b14-2e1f-437b-9eef-293acc8f4fa5",
   "metadata": {},
   "source": [
    "## Preprocesamiento del Texto"
   ]
  },
  {
   "cell_type": "markdown",
   "id": "710ede80-8134-415e-8a46-7a566e0a9e6a",
   "metadata": {},
   "source": [
    "Se define una función para limpiar el texto (pasar a minúsculas, quitar puntuación y espacios extra) y se aplica tanto a las preguntas como a las respuestas."
   ]
  },
  {
   "cell_type": "code",
   "execution_count": 4,
   "id": "3fa48b65-10f3-4a49-9c20-c381f3585d7e",
   "metadata": {},
   "outputs": [],
   "source": [
    "def clean_text(text):\n",
    "    \"\"\"Limpia el texto: lo pasa a minúsculas, quita signos de puntuación y espacios extra.\"\"\"\n",
    "    text = str(text).lower()\n",
    "    text = re.sub(r'[^\\w\\s]', '', text)  # elimina puntuación\n",
    "    text = re.sub(r'\\s+', ' ', text).strip()\n",
    "    return text"
   ]
  },
  {
   "cell_type": "markdown",
   "id": "d4f783ba-a0a6-48e4-8470-72cead3cf99b",
   "metadata": {},
   "source": [
    "### Aplicar la limpieza a las columnas relevantes"
   ]
  },
  {
   "cell_type": "code",
   "execution_count": 5,
   "id": "6585fdfe-4d36-41de-8774-a5facc13fe6f",
   "metadata": {},
   "outputs": [],
   "source": [
    "data['Pregunta_clean'] = data['Pregunta del RFI'].astype(str).apply(clean_text)\n",
    "data['Respuesta_clean'] = data['Respuesta'].astype(str).apply(clean_text)"
   ]
  },
  {
   "cell_type": "markdown",
   "id": "670b6169-1a45-4b77-9fb1-39eaf3550e25",
   "metadata": {},
   "source": [
    "## Cálculo de Embeddings para Preguntas y Respuestas"
   ]
  },
  {
   "cell_type": "markdown",
   "id": "1b7d67a8-4c16-4fd0-94bb-026d9c864b98",
   "metadata": {},
   "source": [
    "Utilizamos el modelo de SentenceTransformer (en este ejemplo se usa el modelo multilingüe) para generar representaciones vectoriales que permitan comparar semánticamente las oraciones."
   ]
  },
  {
   "cell_type": "code",
   "execution_count": 6,
   "id": "c1d60c52-24ac-4b10-8b66-75bdcad9c8dc",
   "metadata": {},
   "outputs": [],
   "source": [
    "# Se usa un modelo multilingüe optimizado para tareas de similitud\n",
    "model = SentenceTransformer('paraphrase-multilingual-MiniLM-L12-v2')\n",
    "\n",
    "# Generar embeddings para las preguntas y respuestas limpias\n",
    "question_embeddings = model.encode(data['Pregunta_clean'].tolist())\n",
    "answer_embeddings = model.encode(data['Respuesta_clean'].tolist())"
   ]
  },
  {
   "cell_type": "markdown",
   "id": "ebfb440c-0882-43dc-b394-f2beabd38166",
   "metadata": {},
   "source": [
    "## Agrupación (Clustering) de preguntas y respuestas"
   ]
  },
  {
   "cell_type": "markdown",
   "id": "35354df4-3f11-4411-9267-4f52779fe907",
   "metadata": {},
   "source": [
    "Utilizamos un algoritmo de clustering jerárquico (AgglomerativeClustering) para agrupar oraciones semánticamente similares.\n",
    "Se define un umbral (por ejemplo, 0.7) que se puede ajustar según la calidad de la agrupación obtenida."
   ]
  },
  {
   "cell_type": "code",
   "execution_count": 7,
   "id": "e225f2c1-61a3-4750-a3ed-ee30da717041",
   "metadata": {},
   "outputs": [],
   "source": [
    "# Agrupación de preguntas\n",
    "clustering_questions = AgglomerativeClustering(\n",
    "    n_clusters=None,\n",
    "    distance_threshold=0.7,       # Este valor se puede ajustar\n",
    "    metric='cosine',            # Mide la similitud coseno\n",
    "    linkage='average'\n",
    ")\n",
    "data['Pregunta_Group_ID'] = clustering_questions.fit_predict(question_embeddings)\n",
    "\n",
    "# Agrupación de respuestas\n",
    "clustering_answers = AgglomerativeClustering(\n",
    "    n_clusters=None,\n",
    "    distance_threshold=0.7,       # Se puede ajustar de igual forma\n",
    "    metric='cosine',\n",
    "    linkage='average'\n",
    ")\n",
    "data['Respuesta_Group_ID'] = clustering_answers.fit_predict(answer_embeddings)\n"
   ]
  },
  {
   "cell_type": "markdown",
   "id": "1e47bbe5-72c2-4f6e-ad74-822681559c81",
   "metadata": {},
   "source": [
    "## Cálculo de la frecuencia de ocurrencia en cada grupo"
   ]
  },
  {
   "cell_type": "markdown",
   "id": "737bd226-48c9-42b0-b9f5-fe968a923dc5",
   "metadata": {},
   "source": [
    "Se cuentan la cantidad de registros que comparten el mismo grupo (tanto para preguntas como para respuestas) y se añade esa información a cada registro."
   ]
  },
  {
   "cell_type": "code",
   "execution_count": 8,
   "id": "6f6bb2bc-9c83-4c08-bfbd-c5bb4539608b",
   "metadata": {},
   "outputs": [],
   "source": [
    "# Frecuencia de cada grupo de preguntas\n",
    "group_preg_freq = data.groupby('Pregunta_Group_ID')['Pregunta del RFI'].count().rename('Pregunta_Frequency')\n",
    "\n",
    "# Frecuencia de cada grupo de respuestas\n",
    "group_resp_freq = data.groupby('Respuesta_Group_ID')['Respuesta'].count().rename('Respuesta_Frequency')\n",
    "\n",
    "# Fusionar los recuentos con el DataFrame principal\n",
    "data = data.merge(group_preg_freq, on='Pregunta_Group_ID', how='left')\n",
    "data = data.merge(group_resp_freq, on='Respuesta_Group_ID', how='left')"
   ]
  },
  {
   "cell_type": "markdown",
   "id": "42584803-d9c1-4fce-bd84-9332693630ea",
   "metadata": {},
   "source": [
    "## Reestructuración y exportación de la nueva base de datos"
   ]
  },
  {
   "cell_type": "markdown",
   "id": "c5ffcd91-6efe-4fdf-bdfc-ebaa823832c0",
   "metadata": {},
   "source": [
    "Se crea un DataFrame final que contiene las siguientes columnas:\n",
    "\n",
    "* Registro: Número de registro original.\n",
    "\n",
    "* Pregunta del RFI: Pregunta original.\n",
    "\n",
    "* Pregunta_Group_ID: Identificador del grupo semántico de la pregunta.\n",
    "\n",
    "* Respuesta: Respuesta original.\n",
    "\n",
    "* Respuesta_Group_ID: Identificador del grupo semántico de la respuesta.\n",
    "\n",
    "* Pregunta_Frequency: Número de veces que se repite esa misma duda (grupo).\n",
    "\n",
    "* Respuesta_Frequency: Número de veces que se repite esa respuesta (grupo)."
   ]
  },
  {
   "cell_type": "code",
   "execution_count": 9,
   "id": "ab7e266d-aa30-4a38-a0c0-18cd29542d69",
   "metadata": {},
   "outputs": [
    {
     "name": "stdout",
     "output_type": "stream",
     "text": [
      "El análisis se ha exportado a 'RFI_Data_Analizado.xlsx'\n"
     ]
    }
   ],
   "source": [
    "final_df = data[['Registro', 'Pregunta del RFI', 'Pregunta_Group_ID', \n",
    "               'Respuesta', 'Respuesta_Group_ID', 'Pregunta_Frequency', 'Respuesta_Frequency']]\n",
    "\n",
    "# Exportar el DataFrame final a un archivo Excel\n",
    "final_df.to_excel('D:\\Proyectos\\DIPRO Agent BOT\\Data\\RFI_Data_Analizado.xlsx', index=False)\n",
    "print(\"El análisis se ha exportado a 'RFI_Data_Analizado.xlsx'\")"
   ]
  },
  {
   "cell_type": "markdown",
   "id": "30bfc0ca-86f1-41a3-8eb4-2ca6d6931c56",
   "metadata": {},
   "source": [
    "## Análisis exploratorio: 80/20 y diagnóstico inicial"
   ]
  },
  {
   "cell_type": "markdown",
   "id": "d46d9a0c-d891-44d8-be4a-9ba94e648fe1",
   "metadata": {},
   "source": [
    "Para identificar el 80/20 de las consultas (las dudas que concentran el 80% del total) se puede calcular la distribución de las frecuencias en los grupos de preguntas. Además, se muestra cuántos grupos (dudas) únicos y grupos de respuestas únicos existen."
   ]
  },
  {
   "cell_type": "code",
   "execution_count": 10,
   "id": "bb06b5a1-cf8c-4cb8-8c06-70be9aca5d6e",
   "metadata": {},
   "outputs": [
    {
     "name": "stdout",
     "output_type": "stream",
     "text": [
      "Número total de dudas distintas (grupos de preguntas): 27\n",
      "Número total de grupos de respuestas distintas: 47\n",
      "\n",
      "Distribución de las frecuencias de las dudas:\n",
      "    Pregunta_Group_ID  Count  Cumsum  Cumulative_Percent\n",
      "2                   2  22781   22781            0.981263\n",
      "11                 11     97   22878            0.985441\n",
      "20                 20     91   22969            0.989361\n",
      "5                   5     58   23027            0.991859\n",
      "10                 10     25   23052            0.992936\n",
      "8                   8     20   23072            0.993797\n",
      "4                   4     18   23090            0.994573\n",
      "7                   7     17   23107            0.995305\n",
      "1                   1     14   23121            0.995908\n",
      "9                   9     13   23134            0.996468\n",
      "22                 22     12   23146            0.996985\n",
      "26                 26     10   23156            0.997416\n",
      "24                 24      9   23165            0.997803\n",
      "13                 13      7   23172            0.998105\n",
      "3                   3      7   23179            0.998406\n",
      "21                 21      6   23185            0.998665\n",
      "6                   6      6   23191            0.998923\n",
      "14                 14      4   23195            0.999095\n",
      "12                 12      4   23199            0.999268\n",
      "0                   0      4   23203            0.999440\n",
      "19                 19      3   23206            0.999569\n",
      "25                 25      3   23209            0.999698\n",
      "18                 18      2   23211            0.999785\n",
      "23                 23      2   23213            0.999871\n",
      "15                 15      1   23214            0.999914\n",
      "16                 16      1   23215            0.999957\n",
      "17                 17      1   23216            1.000000\n",
      "\n",
      "Grupos que representan el 80% de las consultas:\n",
      "Empty DataFrame\n",
      "Columns: [Pregunta_Group_ID, Count, Cumsum, Cumulative_Percent]\n",
      "Index: []\n"
     ]
    }
   ],
   "source": [
    "# Análisis de número de grupos únicos\n",
    "n_dudas = final_df['Pregunta_Group_ID'].nunique()\n",
    "n_respuestas = final_df['Respuesta_Group_ID'].nunique()\n",
    "\n",
    "print(f\"Número total de dudas distintas (grupos de preguntas): {n_dudas}\")\n",
    "print(f\"Número total de grupos de respuestas distintas: {n_respuestas}\")\n",
    "\n",
    "# Calcular la frecuencia por grupo de preguntas\n",
    "freq_preg = final_df.groupby('Pregunta_Group_ID').size().reset_index(name='Count')\n",
    "freq_preg = freq_preg.sort_values(by='Count', ascending=False)\n",
    "freq_preg['Cumsum'] = freq_preg['Count'].cumsum()\n",
    "freq_preg['Cumulative_Percent'] = freq_preg['Cumsum'] / freq_preg['Count'].sum()\n",
    "\n",
    "print(\"\\nDistribución de las frecuencias de las dudas:\")\n",
    "print(freq_preg)\n",
    "\n",
    "# Identificar los grupos que representan aproximadamente el 80% de las consultas\n",
    "top_80 = freq_preg[freq_preg['Cumulative_Percent'] <= 0.8]\n",
    "print(\"\\nGrupos que representan el 80% de las consultas:\")\n",
    "print(top_80)"
   ]
  },
  {
   "cell_type": "code",
   "execution_count": null,
   "id": "7dcc5175-a92a-46f7-a9af-0a64be7d2049",
   "metadata": {},
   "outputs": [],
   "source": []
  },
  {
   "cell_type": "code",
   "execution_count": null,
   "id": "34d91065-a51f-4bf0-8ece-f68ecf22ce61",
   "metadata": {},
   "outputs": [],
   "source": []
  }
 ],
 "metadata": {
  "kernelspec": {
   "display_name": "Python 3 (ipykernel)",
   "language": "python",
   "name": "python3"
  },
  "language_info": {
   "codemirror_mode": {
    "name": "ipython",
    "version": 3
   },
   "file_extension": ".py",
   "mimetype": "text/x-python",
   "name": "python",
   "nbconvert_exporter": "python",
   "pygments_lexer": "ipython3",
   "version": "3.9.19"
  }
 },
 "nbformat": 4,
 "nbformat_minor": 5
}
